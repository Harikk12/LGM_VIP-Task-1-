{
 "cells": [
  {
   "cell_type": "code",
   "execution_count": 1,
   "id": "56726242",
   "metadata": {},
   "outputs": [
    {
     "name": "stdout",
     "output_type": "stream",
     "text": [
      "Collecting cvzone\n",
      "  Downloading cvzone-1.5.5.tar.gz (12 kB)\n",
      "Requirement already satisfied: opencv-python in c:\\users\\dell\\anaconda3\\lib\\site-packages (from cvzone) (4.5.4.60)\n",
      "Requirement already satisfied: numpy in c:\\users\\dell\\anaconda3\\lib\\site-packages (from cvzone) (1.20.3)\n",
      "Building wheels for collected packages: cvzone\n",
      "  Building wheel for cvzone (setup.py): started\n",
      "  Building wheel for cvzone (setup.py): finished with status 'done'\n",
      "  Created wheel for cvzone: filename=cvzone-1.5.5-py3-none-any.whl size=18760 sha256=67ebce87a450ca3c860fa6a6b331986cc5a8d7d9b3405c5fb23b3b0a61f7c4ff\n",
      "  Stored in directory: c:\\users\\dell\\appdata\\local\\pip\\cache\\wheels\\24\\54\\52\\34134331d738b0bfe767f55cf7dc6e128ce983fc13e094e4da\n",
      "Successfully built cvzone\n",
      "Installing collected packages: cvzone\n",
      "Successfully installed cvzone-1.5.5\n"
     ]
    }
   ],
   "source": [
    "!pip3 install cvzone"
   ]
  },
  {
   "cell_type": "code",
   "execution_count": null,
   "id": "6e0301d2",
   "metadata": {},
   "outputs": [],
   "source": [
    "import cv2\n",
    "from cvzone.HandTrackingModule import HandDetector\n",
    "\n",
    "cap=cv2.VideoCapture(0)\n",
    "#create object detector\n",
    "detector= HandDetector(detectionCon=0.8)\n",
    "\n",
    "\n",
    "while True:\n",
    "    success,img=cap.read()\n",
    "    hands,img= detector.findHands(img)#going to return img with drawing\n",
    "    #for each hand we'll have info like Hand-->dict{lmList,boundingbox,center,type}\n",
    "    if hands: \n",
    "        hand1=hands[0]#gives us first hand\n",
    "        lmList1=hand1[\"lmList\"]# List of 21 landmarks\n",
    "        bbox1=hand1[\"bbox\"]#x,y,w,h of bounding box\n",
    "        centerPoint1=hand1[\"center\"]#center of the hand cx,cy\n",
    "        handType1=hand1[\"type\"]#left or right\n",
    "        finger1=detector.fingersUp(hand1)\n",
    "        length,info,img=detector.findDistance(lmList1[8],lmList1[12],img)\n",
    " \n",
    "    if len(hands)==2:\n",
    "        hand2=hands[1]#gives us second hand\n",
    "        lmList2=hand2[\"lmList\"]# List of  21 landmarks\n",
    "        bbox2=hand2[\"bbox\"]#x,y,w,h of bounding box\n",
    "        centerPoint2=hand2[\"center\"]#center of the hand cx,cy\n",
    "        handType2=hand2[\"type\"]#left or right\n",
    "        finger2=detector.fingersUp(hand2)\n",
    "        length,info,img=detector.findDistance(lmList1[8],lmList2[8],img)\n",
    "        length,info,img=detector.findDistance(centerPoint1,centerPoint2,img)\n",
    "\n",
    "\n",
    "\n",
    "    cv2.imshow(\"Image\",img)\n",
    "\n",
    "\n",
    "    #Wait for user input - q, then you will stop the loop\n",
    "    key_pressed = cv2.waitKey(1) & 0xFF #it will wait for 1 mili second bitwise and \n",
    "    if key_pressed == ord('q'): #ord tells you ascii value of that character\n",
    "        break\n",
    "\n",
    "cap.release()\n",
    "cv2.destroyALlWindows()"
   ]
  },
  {
   "cell_type": "code",
   "execution_count": null,
   "id": "e3ef0775",
   "metadata": {},
   "outputs": [],
   "source": []
  },
  {
   "cell_type": "code",
   "execution_count": null,
   "id": "ede64973",
   "metadata": {},
   "outputs": [],
   "source": []
  },
  {
   "cell_type": "code",
   "execution_count": null,
   "id": "cc9a7ad8",
   "metadata": {},
   "outputs": [],
   "source": []
  },
  {
   "cell_type": "code",
   "execution_count": null,
   "id": "6be17afa",
   "metadata": {},
   "outputs": [],
   "source": []
  }
 ],
 "metadata": {
  "kernelspec": {
   "display_name": "Python 3 (ipykernel)",
   "language": "python",
   "name": "python3"
  },
  "language_info": {
   "codemirror_mode": {
    "name": "ipython",
    "version": 3
   },
   "file_extension": ".py",
   "mimetype": "text/x-python",
   "name": "python",
   "nbconvert_exporter": "python",
   "pygments_lexer": "ipython3",
   "version": "3.9.7"
  }
 },
 "nbformat": 4,
 "nbformat_minor": 5
}
